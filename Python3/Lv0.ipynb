{
 "cells": [
  {
   "cell_type": "markdown",
   "metadata": {},
   "source": [
    "https://school.programmers.co.kr/learn/challenges?order=recent&levels=0&languages=python3&page=12\n",
    "\n",
    "Lv0 Python 최신순 맨 마지막 페이지부터 순서대로 풀이."
   ]
  },
  {
   "cell_type": "markdown",
   "metadata": {},
   "source": [
    "# 중복된 숫자 개수\n",
    "\n",
    "정수가 담긴 배열 array와 정수 n이 매개변수로 주어질 때, \n",
    "\n",
    "array에 n이 몇 개 있는 지를 return 하도록 solution 함수를 완성해보세요."
   ]
  },
  {
   "cell_type": "code",
   "execution_count": 26,
   "metadata": {},
   "outputs": [
    {
     "name": "stdout",
     "output_type": "stream",
     "text": [
      "2\n",
      "0\n"
     ]
    }
   ],
   "source": [
    "array1, n1 = [1, 1, 2, 3, 4, 5], 1 # 2\n",
    "array2, n2 = [0, 2, 3, 4], 1 # 0\n",
    "\n",
    "def solution(array, n):\n",
    "    return array.count(n)\n",
    "\n",
    "print(solution(array1, n1))\n",
    "print(solution(array2, n2))"
   ]
  },
  {
   "cell_type": "markdown",
   "metadata": {},
   "source": [
    "# 머쓱이 보다 키 큰 사람\n",
    "\n",
    "머쓱이는 학교에서 키 순으로 줄을 설 때 몇 번째로 서야 하는지 궁금해졌습니다. \n",
    "\n",
    "머쓱이네 반 친구들의 키가 담긴 정수 배열 array와 머쓱이의 키 height가 매개변수로 주어질 때, \n",
    "\n",
    "머쓱이보다 키 큰 사람 수를 return 하도록 solution 함수를 완성해보세요."
   ]
  },
  {
   "cell_type": "code",
   "execution_count": 29,
   "metadata": {},
   "outputs": [
    {
     "name": "stdout",
     "output_type": "stream",
     "text": [
      "3\n",
      "0\n"
     ]
    }
   ],
   "source": [
    "array1, h1 = [149, 180, 192, 170], 167 # 3\n",
    "array2, h2 = [180, 120, 140], 190 # 0\n",
    "\n",
    "def solution1(array, height):\n",
    "    return len([x for x in array if x > height])\n",
    "\n",
    "def solution2(array, height):\n",
    "    result = 0\n",
    "    for x in array:\n",
    "        if x > height:\n",
    "            result += 1     \n",
    "    return result\n",
    "\n",
    "print(solution1(array1, h1))\n",
    "print(solution2(array2, h2))"
   ]
  },
  {
   "cell_type": "markdown",
   "metadata": {},
   "source": [
    "# 두 수의 합\n",
    "\n",
    "정수 num1과 num2가 주어질 때, \n",
    "\n",
    "num1과 num2의 합을 return하도록 soltuion 함수를 완성해주세요."
   ]
  },
  {
   "cell_type": "code",
   "execution_count": 19,
   "metadata": {},
   "outputs": [
    {
     "name": "stdout",
     "output_type": "stream",
     "text": [
      "5\n",
      "102\n"
     ]
    }
   ],
   "source": [
    "n1, n2 = 2, 3 # 5\n",
    "n3, n4 = 100, 2 # 102\n",
    "\n",
    "def solution(num1, num2):\n",
    "    return num1+num2\n",
    "\n",
    "print(solution(n1,n2))\n",
    "print(solution(n3,n4))"
   ]
  },
  {
   "cell_type": "markdown",
   "metadata": {},
   "source": [
    "# 두 수의 차\n",
    "\n",
    "정수 num1과 num2가 주어질 때, \n",
    "\n",
    "num1에서 num2를 뺀 값을 return하도록 soltuion 함수를 완성해주세요."
   ]
  },
  {
   "cell_type": "code",
   "execution_count": 11,
   "metadata": {},
   "outputs": [
    {
     "name": "stdout",
     "output_type": "stream",
     "text": [
      "-1\n",
      "98\n"
     ]
    }
   ],
   "source": [
    "n1, n2 = 2, 3 # -1\n",
    "n3, n4 = 100, 2 # 98\n",
    "\n",
    "def solution(num1, num2):\n",
    "    return num1 - num2\n",
    "\n",
    "print(solution(n1,n2))\n",
    "print(solution(n3,n4))"
   ]
  },
  {
   "cell_type": "markdown",
   "metadata": {},
   "source": [
    "# 두 수의 곱\n",
    "\n",
    "정수 num1, num2가 매개변수 주어집니다. \n",
    "\n",
    "num1과 num2를 곱한 값을 return 하도록 solution 함수를 완성해주세요."
   ]
  },
  {
   "cell_type": "code",
   "execution_count": 21,
   "metadata": {},
   "outputs": [
    {
     "name": "stdout",
     "output_type": "stream",
     "text": [
      "12\n",
      "513\n"
     ]
    }
   ],
   "source": [
    "n1, n2 = 3, 4 # 12\n",
    "n3, n4 = 27, 19 # 513\n",
    "\n",
    "def solution(num1, num2):\n",
    "    return num1 * num2\n",
    "\n",
    "print(solution(n1,n2))\n",
    "print(solution(n3,n4))\n"
   ]
  },
  {
   "cell_type": "markdown",
   "metadata": {},
   "source": [
    "# 몫 구하기\n",
    "\n",
    "정수 num1, num2가 매개변수로 주어질 때, \n",
    "\n",
    "num1을 num2로 나눈 몫을 return 하도록 solution 함수를 완성해주세요."
   ]
  },
  {
   "cell_type": "code",
   "execution_count": 12,
   "metadata": {},
   "outputs": [
    {
     "name": "stdout",
     "output_type": "stream",
     "text": [
      "2\n",
      "3\n"
     ]
    }
   ],
   "source": [
    "n1, n2 = 10, 5 # 2\n",
    "n3, n4 = 7, 2 # 3\n",
    "\n",
    "def solution(num1, num2):\n",
    "    return num1 // num2\n",
    "\n",
    "print(solution(n1,n2))\n",
    "print(solution(n3,n4))"
   ]
  },
  {
   "cell_type": "markdown",
   "metadata": {},
   "source": [
    "# 두 수의 나눗셈\n",
    "\n",
    "정수 num1과 num2가 매개변수로 주어질 때, \n",
    "\n",
    "num1을 num2로 나눈 값에 1,000을 곱한 후 정수 부분을 return 하도록 soltuion 함수를 완성해주세요."
   ]
  },
  {
   "cell_type": "code",
   "execution_count": 33,
   "metadata": {},
   "outputs": [
    {
     "name": "stdout",
     "output_type": "stream",
     "text": [
      "1500\n",
      "2333\n",
      "62\n"
     ]
    }
   ],
   "source": [
    "n1, n2 = 3, 2 # 1500\n",
    "n3, n4 = 7, 3 # 2333\n",
    "n5, n6 = 1, 16 # 62\n",
    "\n",
    "def solution(num1, num2):\n",
    "    return int((num1/num2)*1000)\n",
    "\n",
    "print(solution(n1,n2))\n",
    "print(solution(n3,n4))\n",
    "print(solution(n5,n6))"
   ]
  },
  {
   "cell_type": "markdown",
   "metadata": {},
   "source": [
    "# 숫자 비교하기\n",
    "\n",
    "정수 num1과 num2가 매개변수로 주어집니다. \n",
    "\n",
    "두 수가 같으면 1 다르면 -1을 retrun하도록 solution 함수를 완성해주세요."
   ]
  },
  {
   "cell_type": "code",
   "execution_count": 13,
   "metadata": {},
   "outputs": [
    {
     "name": "stdout",
     "output_type": "stream",
     "text": [
      "-1\n",
      "1\n",
      "-1\n"
     ]
    }
   ],
   "source": [
    "n1, n2 = 2, 3 # -1\n",
    "n3, n4 = 11, 11 # 1\n",
    "n5, n6 = 7, 99 # -1\n",
    "\n",
    "def solution1(num1, num2):\n",
    "    if num1 == num2:\n",
    "        result = 1\n",
    "    else : \n",
    "        result = -1\n",
    "    return result\n",
    "\n",
    "def solution2(num1,num2):\n",
    "    return 1 if num1==num2 else -1\n",
    "\n",
    "print(solution1(n1,n2))\n",
    "print(solution2(n3,n4))\n",
    "print(solution2(n5,n6))\n"
   ]
  },
  {
   "cell_type": "markdown",
   "metadata": {},
   "source": [
    "# 분수의 덧셈\n",
    "\n",
    "첫 번째 분수의 분자와 분모를 뜻하는 numer1, denom1, \n",
    "\n",
    "두 번째 분수의 분자와 분모를 뜻하는 numer2, denom2가 매개변수로 주어집니다. \n",
    "\n",
    "두 분수를 더한 값을 기약 분수로 나타냈을 때 분자와 분모를 순서대로 담은 배열을 return 하도록 solution 함수를 완성해보세요."
   ]
  },
  {
   "cell_type": "code",
   "execution_count": 143,
   "metadata": {},
   "outputs": [
    {
     "name": "stdout",
     "output_type": "stream",
     "text": [
      "[5, 4]\n",
      "[29, 6]\n"
     ]
    }
   ],
   "source": [
    "# 두 분수의 곱에 대한 [분자, 분모] 값 출력하라는 문제.\n",
    "\n",
    "number1, denom1 = 1, 2 \n",
    "number2, denom2 = 3, 4 \n",
    "# 입출력 예 #1\n",
    "# 1 / 2 + 3 / 4 = 5 / 4입니다. 따라서 [5, 4]를 return 합니다.\n",
    "\n",
    "number3, denom3 = 9, 2 \n",
    "number4, denom4 = 1, 3 \n",
    "# 입출력 예 #2\n",
    "# 9 / 2 + 1 / 3 = 29 / 6입니다. 따라서 [29, 6]을 return 합니다.\n",
    "\n",
    "def solution(n1, d1, n2, d2):\n",
    "    result = [0,0]\n",
    "\n",
    "    # 기본 분수 덧셈\n",
    "    n = n1*d2 + n2*d1 #분자\n",
    "    d = d1*d2 #분모\n",
    "\n",
    "    # 기본 덧셈 계산된 분자 분모의 최대공약수 구하는 함수\n",
    "    def gcd(a, b):\n",
    "        while b:\n",
    "            a, b = b, a % b\n",
    "        return a\n",
    "\n",
    "    # 기약 분수로 나타내는 방법 : \n",
    "    # (기본 분수 계산된 분자/최대공약수) / (기본 분수 계산된 분모/최대공약수)\n",
    "    result[0] = n // gcd(n, d)\n",
    "    result[1] = d // gcd(n, d)\n",
    "\n",
    "    return result \n",
    "\n",
    "print(solution(number1, denom1,number2, denom2))\n",
    "print(solution(number3, denom3,number4, denom4))"
   ]
  },
  {
   "cell_type": "markdown",
   "metadata": {},
   "source": [
    "# 배열 두배 만들기\n",
    "\n",
    "정수 배열 numbers가 매개변수로 주어집니다. \n",
    "\n",
    "numbers의 각 원소에 두배한 원소를 가진 배열을 return하도록 solution 함수를 완성해주세요."
   ]
  },
  {
   "cell_type": "code",
   "execution_count": 45,
   "metadata": {},
   "outputs": [
    {
     "data": {
      "text/plain": [
       "[-198, 2, 2, 4, 4, 6, 200]"
      ]
     },
     "execution_count": 45,
     "metadata": {},
     "output_type": "execute_result"
    }
   ],
   "source": [
    "numbers1 = [1, 2, 3, 4, 5] #[2, 4, 6, 8, 10]\n",
    "numbers2 = [1, 2, 100, -99, 1, 2, 3] #[2, 4, 200, -198, 2, 4, 6]\n",
    "\n",
    "def solution(numbers, x):\n",
    "    result = []\n",
    "    for i in numbers:\n",
    "        i = i*x\n",
    "        result.append(i)\n",
    "    return sorted(result)\n",
    "\n",
    "solution(numbers1, 2) \n",
    "solution(numbers2, 2) "
   ]
  },
  {
   "cell_type": "markdown",
   "metadata": {},
   "source": [
    "# 나머지 구하기\n",
    "\n",
    "정수 num1, num2가 매개변수로 주어질 때, \n",
    "\n",
    "num1를 num2로 나눈 나머지를 return 하도록 solution 함수를 완성해주세요."
   ]
  },
  {
   "cell_type": "code",
   "execution_count": 10,
   "metadata": {},
   "outputs": [
    {
     "name": "stdout",
     "output_type": "stream",
     "text": [
      "1\n",
      "0\n"
     ]
    }
   ],
   "source": [
    "n1, n2 = 3, 2 # 1\n",
    "n3, n4 = 10, 5 # 0\n",
    "\n",
    "def solution(num1, num2):\n",
    "    return num1%num2\n",
    "\n",
    "print(solution(n1,n2))\n",
    "print(solution(n3,n4))"
   ]
  },
  {
   "cell_type": "markdown",
   "metadata": {},
   "source": [
    "# 중앙값 구하기\n",
    "\n",
    "중앙값은 어떤 주어진 값들을 크기의 순서대로 정렬했을 때 가장 중앙에 위치하는 값을 의미합니다.\n",
    "\n",
    "예를 들어 1, 2, 3, 7 ,10 ,11의 중앙값은 7 입니다.\n",
    "\n",
    "정수 배열 array가 매개변수로 주어질 때, 중앙값을 return하세요."
   ]
  },
  {
   "cell_type": "code",
   "execution_count": 38,
   "metadata": {},
   "outputs": [
    {
     "data": {
      "text/plain": [
       "0"
      ]
     },
     "execution_count": 38,
     "metadata": {},
     "output_type": "execute_result"
    }
   ],
   "source": [
    "array1 = [1, 2, 7, 10, 11] # 7\n",
    "array2 = [9, -1, 0]\n",
    "\n",
    "def solution(array):\n",
    "    if len(array)%2 != 0:    \n",
    "        return sorted(array)[len(array)//2]\n",
    "    else : return \"array 길이가 짝수 입니다\", len(array)\n",
    "    \n",
    "solution(array1)\n",
    "solution(array2)"
   ]
  },
  {
   "cell_type": "markdown",
   "metadata": {},
   "source": [
    "# 최빈값 구하기\n",
    "\n",
    "최빈값은 주어진 값 중에서 가장 자주 나오는 값을 의미합니다. \n",
    "\n",
    "정수 배열 array가 매개변수로 주어질 때, \n",
    "\n",
    "최빈값을 return 하도록 solution 함수를 완성해보세요. \n",
    "\n",
    "최빈값이 여러 개면 -1을 return 합니다."
   ]
  },
  {
   "cell_type": "code",
   "execution_count": 19,
   "metadata": {},
   "outputs": [
    {
     "name": "stdout",
     "output_type": "stream",
     "text": [
      "3\n",
      "1\n",
      "1\n"
     ]
    }
   ],
   "source": [
    "array1 = [1,2,3,3,3,4] # 3\n",
    "array2 = [1,1,2,2] # 3\n",
    "array3 = [1] # 1\n",
    "\n",
    "def solution(array):\n",
    "    # 각 요소의 빈도수를 저장하는 딕셔너리 생성\n",
    "    array_map = {}\n",
    "\n",
    "    # 각 요소의 빈도수 계산\n",
    "    for element in array:\n",
    "        if element in array_map:\n",
    "            array_map[element] += 1\n",
    "        else:\n",
    "            array_map[element] = 1\n",
    "\n",
    "    # 가장 높은 빈도수를 가진 요소 찾기\n",
    "    result = None\n",
    "    max = 0\n",
    "    for element, count in array_map.items():\n",
    "        if count > max:\n",
    "            result = element\n",
    "            max = count\n",
    "\n",
    "    return result\n",
    "\n",
    "print(solution(array1))\n",
    "print(solution(array2))\n",
    "print(solution(array3))"
   ]
  },
  {
   "cell_type": "markdown",
   "metadata": {},
   "source": [
    "# 짝수가 싫어요\n",
    "\n",
    "정수 n이 매개변수로 주어질 때, \n",
    "\n",
    "n 이하의 홀수가 오름차순으로 담긴 배열을 return하도록 solution 함수를 완성해주세요."
   ]
  },
  {
   "cell_type": "code",
   "execution_count": 25,
   "metadata": {},
   "outputs": [
    {
     "data": {
      "text/plain": [
       "([1, 3, 5, 7, 9], [1, 3, 5, 7, 9, 11, 13, 15])"
      ]
     },
     "execution_count": 25,
     "metadata": {},
     "output_type": "execute_result"
    }
   ],
   "source": [
    "n1 = 10 # [1, 3, ,5, 7, 9]\n",
    "n2 = 15 # [1, 3, 5, 7, 9, 11, 13, 15]\n",
    "\n",
    "def solution(n):\n",
    "    result = []\n",
    "    for i in range(1, n+1, 2):\n",
    "        result.append(i)\n",
    "    return result\n",
    "\n",
    "solution(n1), solution(n2)"
   ]
  },
  {
   "cell_type": "markdown",
   "metadata": {},
   "source": [
    "# 피자 나눠 먹기 (1)\n",
    "\n",
    "머쓱이네 피자가게는 피자를 일곱 조각으로 잘라 줍니다. \n",
    "\n",
    "피자를 나눠먹을 사람의 수 n이 주어질 때, \n",
    "\n",
    "모든 사람이 피자를 한 조각 이상 먹기 위해 필요한 피자의 수를 return 하는 solution 함수를 완성해보세요."
   ]
  },
  {
   "cell_type": "code",
   "execution_count": 27,
   "metadata": {},
   "outputs": [
    {
     "name": "stdout",
     "output_type": "stream",
     "text": [
      "1\n",
      "1\n",
      "3\n"
     ]
    }
   ],
   "source": [
    "n1 = 7 # 1\n",
    "n2 = 1 # 1\n",
    "n3 = 15 # 3\n",
    "\n",
    "def solution(n):\n",
    "    pizza = 0\n",
    "    pizza_slice = 7\n",
    "    if 0 < n <= pizza_slice : # 피자조각보다 사람이 적은 경우\n",
    "        pizza = 1 \n",
    "    elif n % pizza_slice == 0 : # 피자 조각을 모든 인원에게 한개씩 주고 남은게 0조각이면\n",
    "        pizza = n//pizza_slice\n",
    "    else :\n",
    "        pizza = (n//pizza_slice) + 1\n",
    "    return pizza\n",
    "\n",
    "print(solution(n1))\n",
    "print(solution(n2))\n",
    "print(solution(n3))"
   ]
  },
  {
   "cell_type": "markdown",
   "metadata": {},
   "source": [
    "# 피자 나눠 먹기 (2)\n",
    "\n",
    "머쓱이네 피자가게는 피자를 여섯 조각으로 잘라 줍니다. \n",
    "\n",
    "피자를 나눠먹을 사람의 수 n이 매개변수로 주어질 때, \n",
    "\n",
    "n명이 주문한 피자를 남기지 않고 모두 같은 수의 피자 조각을 먹어야 한다면 최소 몇 판을 시켜야 하는지를 return 하도록 solution 함수를 완성해보세요."
   ]
  },
  {
   "cell_type": "code",
   "execution_count": 36,
   "metadata": {},
   "outputs": [
    {
     "name": "stdout",
     "output_type": "stream",
     "text": [
      "1\n",
      "5\n",
      "2\n"
     ]
    }
   ],
   "source": [
    "n1 = 6 # 1\n",
    "n2 = 10 # 5\n",
    "n3 = 4 # 2\n",
    "\n",
    "pizza_slice = 6\n",
    "\n",
    "def gcd(a, b):\n",
    "    while b != 0:\n",
    "        a, b = b, a % b\n",
    "    return a\n",
    "\n",
    "def solution(n):\n",
    "    pizza = (n * pizza_slice) // gcd(n, pizza_slice) // pizza_slice\n",
    "    return pizza\n",
    "\n",
    "print(solution(n1))\n",
    "print(solution(n2))\n",
    "print(solution(n3))"
   ]
  },
  {
   "cell_type": "markdown",
   "metadata": {},
   "source": [
    "# 피자 나눠먹기 (3)\n",
    "\n",
    "머쓱이네 피자가게는 피자를 두 조각에서 열 조각까지 원하는 조각 수로 잘라줍니다. \n",
    "\n",
    "피자 조각 수 slice와 피자를 먹는 사람의 수 n이 매개변수로 주어질 때, \n",
    "\n",
    "n명의 사람이 최소 한 조각 이상 피자를 먹으려면 최소 몇 판의 피자를 시켜야 하는지를 return 하도록 solution 함수를 완성해보세요."
   ]
  },
  {
   "cell_type": "code",
   "execution_count": 37,
   "metadata": {},
   "outputs": [
    {
     "name": "stdout",
     "output_type": "stream",
     "text": [
      "2\n",
      "3\n"
     ]
    }
   ],
   "source": [
    "pizza_slice1, n1 = 7, 10 # 2\n",
    "pizza_slice2, n2 = 4, 12 # 3\n",
    "\n",
    "\n",
    "\n",
    "def solution(slice, n):\n",
    "    if n % slice == 0:\n",
    "        return n // slice\n",
    "    else:\n",
    "        return n // slice + 1\n",
    "\n",
    "print(solution(pizza_slice1, n1))\n",
    "print(solution(pizza_slice2, n2))"
   ]
  },
  {
   "cell_type": "markdown",
   "metadata": {},
   "source": [
    "# 배열(리스트)의 평균값\n",
    "\n",
    "정수 배열 numbers가 매개변수로 주어집니다. \n",
    "\n",
    "numbers의 원소의 평균값을 return하도록 solution 함수를 완성해주세요."
   ]
  },
  {
   "cell_type": "code",
   "execution_count": 22,
   "metadata": {},
   "outputs": [
    {
     "name": "stdout",
     "output_type": "stream",
     "text": [
      "5.5\n",
      "94.0\n"
     ]
    }
   ],
   "source": [
    "n1 = [1, 2, 3, 4, 5, 6, 7, 8, 9, 10] # 5.5\n",
    "n2 = [89, 90, 91, 92, 93, 94, 95, 96, 97, 98, 99] # 94.0\n",
    "\n",
    "def solution(numbers):\n",
    "    return sum(numbers)/len(numbers)\n",
    "\n",
    "print(solution(n1))\n",
    "print(solution(n2))\n"
   ]
  },
  {
   "cell_type": "markdown",
   "metadata": {},
   "source": [
    "# 옷가게 할인 받기\n",
    "\n",
    "머쓱이네 옷가게는 10만 원 이상 사면 5%, 30만 원 이상 사면 10%, 50만 원 이상 사면 20%를 할인해줍니다.\n",
    "\n",
    "구매한 옷의 가격 price가 주어질 때, 지불해야 할 금액을 return 하도록 solution 함수를 완성해보세요."
   ]
  },
  {
   "cell_type": "code",
   "execution_count": 39,
   "metadata": {},
   "outputs": [
    {
     "data": {
      "text/plain": [
       "464000"
      ]
     },
     "execution_count": 39,
     "metadata": {},
     "output_type": "execute_result"
    }
   ],
   "source": [
    "price1 = 150000 # 142500\n",
    "price2 = 580000 # 464000\n",
    "\n",
    "def solution(price):\n",
    "    if 100000 <= price < 300000:\n",
    "        pay_price = price * 0.95\n",
    "    elif 300000 <= price < 500000:\n",
    "        pay_price = price * 0.90\n",
    "    elif price >= 500000:\n",
    "        pay_price = price * 0.80\n",
    "    else:\n",
    "        pay_price = price\n",
    "    return int(pay_price)\n",
    "\n",
    "solution(price1)\n",
    "solution(price2)"
   ]
  },
  {
   "cell_type": "markdown",
   "metadata": {},
   "source": [
    "# 아이스 아메리카노\n",
    "\n",
    "머쓱이는 추운 날에도 아이스 아메리카노만 마십니다. \n",
    "\n",
    "아이스 아메리카노는 한잔에 5,500원입니다. \n",
    "\n",
    "머쓱이가 가지고 있는 돈 money가 매개변수로 주어질 때, \n",
    "\n",
    "머쓱이가 최대로 마실 수 있는 아메리카노의 잔 수와 남는 돈을 순서대로 담은 배열을 return 하도록 solution 함수를 완성해보세요."
   ]
  },
  {
   "cell_type": "code",
   "execution_count": 41,
   "metadata": {},
   "outputs": [
    {
     "name": "stdout",
     "output_type": "stream",
     "text": [
      "[1, 0]\n",
      "[2, 4000]\n"
     ]
    }
   ],
   "source": [
    "money1 = 5500 # [1, 0]\n",
    "money2 = 15000 # [1, 0]\n",
    "\n",
    "def solution(money):\n",
    "    a = int(money/5500)\n",
    "    b = money%5500\n",
    "    answer = [a, b]\n",
    "    return answer\n",
    "\n",
    "print(solution(money1))\n",
    "print(solution(money2))"
   ]
  },
  {
   "cell_type": "markdown",
   "metadata": {},
   "source": [
    "# 나이 출력\n",
    "\n",
    "머쓱이는 선생님이 몇 년도에 태어났는지 궁금해졌습니다. \n",
    "\n",
    "2022년 기준 선생님의 나이 age가 주어질 때, 선생님의 출생 연도를 return 하는 solution 함수를 완성해주세요.\n",
    "n1 = 40 # 1983\n",
    "n2 = 23 # 2000\n",
    "\n",
    "def solution(age):\n",
    "    return 2022-age+1\n",
    "\n",
    "print(solution(n1))\n",
    "print(solution(n2))"
   ]
  },
  {
   "cell_type": "code",
   "execution_count": null,
   "metadata": {},
   "outputs": [],
   "source": [
    "n1 = 40 # 1983\n",
    "n2 = 23 # 2000\n",
    "\n",
    "def solution(age):\n",
    "    return 2022-age+1\n",
    "\n",
    "print(solution(n1))\n",
    "print(solution(n2))"
   ]
  },
  {
   "cell_type": "markdown",
   "metadata": {},
   "source": [
    "# 배열 뒤집기\n",
    "\n",
    "정수가 들어 있는 배열 num_list가 매개변수로 주어집니다. \n",
    "\n",
    "num_list의 원소의 순서를 거꾸로 뒤집은 배열을 return하도록 solution 함수를 완성해주세요."
   ]
  },
  {
   "cell_type": "code",
   "execution_count": 46,
   "metadata": {},
   "outputs": [
    {
     "name": "stdout",
     "output_type": "stream",
     "text": [
      "[5, 4, 3, 2, 1]\n",
      "[2, 1, 1, 1, 1, 1]\n",
      "[5, 3, 1, 1, 1, 0, 1]\n"
     ]
    }
   ],
   "source": [
    "num_list1 = [1,2,3,4,5] # 5,4,3,2,1\n",
    "num_list2 = [1,1,1,1,1,2] # 2,1,1,1,1\n",
    "num_list3 = [1,0,1,1,1,3,5] # 5,3,1,1,1,0,1\n",
    "\n",
    "def solution(num_list):\n",
    "    return num_list[::-1]\n",
    "\n",
    "print(solution(num_list1))\n",
    "print(solution(num_list2))\n",
    "print(solution(num_list3))"
   ]
  },
  {
   "cell_type": "markdown",
   "metadata": {},
   "source": [
    "# 문자열 뒤집기\n",
    "\n",
    "문자열 my_string이 매개변수로 주어집니다. \n",
    "\n",
    "my_string을 거꾸로 뒤집은 문자열을 return하도록 solution 함수를 완성해주세요."
   ]
  },
  {
   "cell_type": "code",
   "execution_count": 50,
   "metadata": {},
   "outputs": [
    {
     "name": "stdout",
     "output_type": "stream",
     "text": [
      "noraj\n",
      "daerb\n"
     ]
    }
   ],
   "source": [
    "my_string1 = \"jaron\" # noraj\n",
    "my_string2 = \"bread\" # daerb\n",
    "\n",
    "def solution(my_string):\n",
    "    return my_string[::-1]\n",
    "\n",
    "print(solution(my_string1))\n",
    "print(solution(my_string2))"
   ]
  },
  {
   "cell_type": "markdown",
   "metadata": {},
   "source": [
    "# 직각삼각형 출력하기\n",
    "\n",
    "\"*\"의 높이와 너비를 1이라고 했을 때, \"*\"을 이용해 직각 이등변 삼각형을 그리려고합니다. \n",
    "\n",
    "정수 n 이 주어지면 높이와 너비가 n 인 직각 이등변 삼각형을 출력하도록 코드를 작성해보세요."
   ]
  },
  {
   "cell_type": "code",
   "execution_count": 73,
   "metadata": {},
   "outputs": [
    {
     "name": "stdout",
     "output_type": "stream",
     "text": [
      "*\n",
      "**\n",
      "***\n"
     ]
    }
   ],
   "source": [
    "n = 3\n",
    "# *\n",
    "# **\n",
    "# ***\n",
    "\n",
    "def solution(n):\n",
    "    for i in range(1,n+1):\n",
    "        print('*'*i)\n",
    "\n",
    "solution(n)"
   ]
  },
  {
   "cell_type": "markdown",
   "metadata": {},
   "source": [
    "# 짝수 홀수 개수\n",
    "\n",
    "정수가 담긴 리스트 num_list가 주어질 때, \n",
    "\n",
    "num_list의 원소 중 짝수와 홀수의 개수를 담은 배열을 return 하도록 solution 함수를 완성해보세요."
   ]
  },
  {
   "cell_type": "code",
   "execution_count": 96,
   "metadata": {},
   "outputs": [
    {
     "name": "stdout",
     "output_type": "stream",
     "text": [
      "[2, 3]\n",
      "[0, 4]\n"
     ]
    }
   ],
   "source": [
    "num_list1 = [1,2,3,4,5] # [2,3]\n",
    "num_list2 = [1,3,5,7] # [0,4]\n",
    "\n",
    "def solution(num_list):\n",
    "    result = [0,0]\n",
    "    for i in range(0,len(num_list)):\n",
    "        if num_list[i]%2 == 0:\n",
    "            result[0] += 1\n",
    "        else :\n",
    "            result[1] += 1\n",
    "    return result\n",
    "\n",
    "print(solution(num_list1))\n",
    "print(solution(num_list2))"
   ]
  },
  {
   "cell_type": "markdown",
   "metadata": {},
   "source": [
    "# 문자 반복 출력하기\n",
    "\n",
    "문자열 my_string과 정수 n이 매개변수로 주어질 때, \n",
    "\n",
    "my_string에 들어있는 각 문자를 n만큼 반복한 문자열을 return 하도록 solution 함수를 완성해보세요."
   ]
  },
  {
   "cell_type": "code",
   "execution_count": 102,
   "metadata": {},
   "outputs": [
    {
     "name": "stdout",
     "output_type": "stream",
     "text": [
      "hhheeellllllooo\n"
     ]
    }
   ],
   "source": [
    "my_string1 = 'hello'\n",
    "n1 = 3\n",
    "# \"hhheeellllllooo\"\n",
    "\n",
    "def solution(my_string, n):\n",
    "    result = \"\"\n",
    "    for i in my_string:\n",
    "        result += i*n\n",
    "    return result\n",
    "\n",
    "print(solution(my_string1,n))"
   ]
  },
  {
   "cell_type": "markdown",
   "metadata": {},
   "source": [
    "# 특정 문자 제거하기\n",
    "\n",
    "문자열 my_string과 문자 letter이 매개변수로 주어집니다.\n",
    "\n",
    "my_string에서 letter를 제거한 문자열을 return하도록 solution 함수를 완성해주세요."
   ]
  },
  {
   "cell_type": "code",
   "execution_count": 105,
   "metadata": {},
   "outputs": [
    {
     "name": "stdout",
     "output_type": "stream",
     "text": [
      "abcde\n",
      "Cdbe\n"
     ]
    }
   ],
   "source": [
    "my_string1, letter1 = \"abcdef\", \"f\" # \"abcde\"\n",
    "my_string2, letter2 = \"BCBdbe\", \"B\" # \"Cdbe\"\n",
    "\n",
    "def solution(my_string, letter):\n",
    "    result = \"\"\n",
    "    for i in range(len(my_string)):\n",
    "        if my_string[i] != letter:\n",
    "            result += my_string[i]\n",
    "    return result\n",
    "print(solution(my_string1,letter1))\n",
    "print(solution(my_string2,letter2))\n",
    "\n",
    "# def solution(my_string, letter):\n",
    "#     return my_string.replace(letter, \"\")"
   ]
  },
  {
   "cell_type": "markdown",
   "metadata": {},
   "source": [
    "# 각도기\n",
    "\n",
    "각에서 0도 초과 90도 미만은 예각, \n",
    "\n",
    "90도는 직각, \n",
    "\n",
    "90도 초과 180도 미만은 둔각 180도는 평각으로 분류합니다. \n",
    "\n",
    "각 angle이 매개변수로 주어질 때 \n",
    "\n",
    "예각일 때 1, \n",
    "\n",
    "직각일 때 2, \n",
    "\n",
    "둔각일 때 3, \n",
    "\n",
    "평각일 때 4를 return하도록 solution 함수를 완성해주세요.\n"
   ]
  },
  {
   "cell_type": "code",
   "execution_count": null,
   "metadata": {},
   "outputs": [],
   "source": [
    "n1 = 70 # 1\n",
    "n2 = 91 # 3\n",
    "n3 = 180 # 4\n",
    "\n",
    "def solution(angle):\n",
    "    if 0 < angle < 90:\n",
    "        result = 1\n",
    "    elif 90 == angle :\n",
    "        result = 2\n",
    "    elif 90 < angle <180:\n",
    "        result = 3 \n",
    "    else :\n",
    "        result = 4\n",
    "    return result\n",
    "\n",
    "print(solution(n1))\n",
    "print(solution(n2))\n",
    "print(solution(n3))"
   ]
  },
  {
   "cell_type": "markdown",
   "metadata": {},
   "source": [
    "# 양꼬치\n",
    "\n",
    "머쓱이네 양꼬치 가게는 10인분을 먹으면 음료수 하나를 서비스로 줍니다. \n",
    "\n",
    "양꼬치는 1인분에 12,000원, 음료수는 2,000원입니다. \n",
    "\n",
    "정수 n과 k가 매개변수로 주어졌을 때, \n",
    "\n",
    "양꼬치 n인분과 음료수 k개를 먹었다면 총얼마를 지불해야 하는지 return 하도록 solution 함수를 완성해보세요."
   ]
  },
  {
   "cell_type": "code",
   "execution_count": 107,
   "metadata": {},
   "outputs": [
    {
     "name": "stdout",
     "output_type": "stream",
     "text": [
      "124000\n",
      "768000\n"
     ]
    }
   ],
   "source": [
    "n1, k1 = 10, 3 # 124000\n",
    "n2, k2 = 64, 6 # 768000\n",
    "\n",
    "def solution(n, k):\n",
    "    result = 0\n",
    "    result = 12000*n + 2000*k\n",
    "    display = 0\n",
    "    if n >= 10:\n",
    "        discount = (n//10)*2000\n",
    "    return result-discount\n",
    "\n",
    "print(solution(n1, k1))\n",
    "print(solution(n2, k2))"
   ]
  },
  {
   "cell_type": "markdown",
   "metadata": {},
   "source": [
    "# 짝수의 합\n",
    "\n",
    "정수 n이 주어질 때, n이하의 짝수를 모두 더한 값을 return 하도록 solution 함수를 작성해주세요."
   ]
  },
  {
   "cell_type": "code",
   "execution_count": 118,
   "metadata": {},
   "outputs": [
    {
     "name": "stdout",
     "output_type": "stream",
     "text": [
      "30\n",
      "6\n"
     ]
    }
   ],
   "source": [
    "n1 = 10 # 30\n",
    "n2 = 4 # 6\n",
    "\n",
    "def solution(n):\n",
    "    result = 0\n",
    "    for i in range(1,n+1):\n",
    "        if i % 2 == 0:\n",
    "            result += i\n",
    "    return result\n",
    "\n",
    "print(solution(n1))\n",
    "print(solution(n2))"
   ]
  },
  {
   "cell_type": "markdown",
   "metadata": {},
   "source": [
    "# 배열 자르기\n",
    "\n",
    "정수 배열 numbers와 정수 num1, num2가 매개변수로 주어질 때,\n",
    "\n",
    " numbers의 num1번 째 인덱스부터 num2번째 인덱스까지 자른 정수 배열을 return 하도록 solution 함수를 완성해보세요.\n"
   ]
  },
  {
   "cell_type": "code",
   "execution_count": 121,
   "metadata": {},
   "outputs": [
    {
     "name": "stdout",
     "output_type": "stream",
     "text": [
      "[2, 3, 4]\n",
      "[3, 5]\n"
     ]
    }
   ],
   "source": [
    "numbers1, num1,\tnum2 = [1, 2, 3, 4, 5],\t1,\t3 \t# [2, 3, 4]\n",
    "numbers2, num3,\tnum4 = [1, 3, 5], 1, 2\t# [3, 5]\n",
    "\n",
    "def solution(numbers, numb1, numb2):\n",
    "    return numbers[numb1:numb2+1]\n",
    "\n",
    "print(solution(numbers1, num1,\tnum2))\n",
    "print(solution(numbers2, num3,\tnum4))"
   ]
  },
  {
   "cell_type": "markdown",
   "metadata": {},
   "source": [
    "# 외계행성의 나이\n",
    "\n",
    "외계 행성에서는 나이를 알파벳으로 말하고 있습니다. \n",
    "\n",
    "a는 0, b는 1, c는 2, ..., j는 9입니다. \n",
    "\n",
    "예를 들어 23살은 cd, 51살은 fb로 표현합니다. \n",
    "\n",
    "나이 age가 매개변수로 주어질 때 나이를 return하도록 solution 함수를 완성해주세요."
   ]
  },
  {
   "cell_type": "code",
   "execution_count": 127,
   "metadata": {},
   "outputs": [
    {
     "name": "stdout",
     "output_type": "stream",
     "text": [
      "cd\n"
     ]
    }
   ],
   "source": [
    "age1 = 23\t# \"cd\"\n",
    "age2 = 51\t# \"fb\"\n",
    "age3 = 100\t# \"baa\"\n",
    "\n",
    "al = {  '0': 'a',\n",
    "        '1': 'b',\n",
    "        '2': 'c',\n",
    "        '3': 'd',\n",
    "        '4': 'e',\n",
    "        '5': 'f',\n",
    "        '6': 'g',\n",
    "        '7': 'h',\n",
    "        '8': 'i',\n",
    "        '9': 'j'\n",
    "        } \n",
    "def solution(age):\n",
    "    age = str(age)\n",
    "    result = ''\n",
    "    for i in age:\n",
    "       result += al[i]\n",
    "    return result\n",
    "\n",
    "print(solution(age1))"
   ]
  },
  {
   "cell_type": "markdown",
   "metadata": {},
   "source": [
    "# 진료 순서 정하기\n",
    "\n",
    "환자의 응급도를 기준으로 진료 순서를 정하려고 합니다. \n",
    "\n",
    "정수 배열 emergency가 매개변수로 주어질 때,\n",
    "\n",
    " 응급도가 높은 순서대로 진료 순서를 정한 배열을 return하도록 solution 함수를 완성해주세요"
   ]
  },
  {
   "cell_type": "code",
   "execution_count": 155,
   "metadata": {},
   "outputs": [
    {
     "name": "stdout",
     "output_type": "stream",
     "text": [
      "[3, 1, 2]\n",
      "[7, 6, 5, 4, 3, 2, 1]\n",
      "[2, 4, 3, 5, 1]\n"
     ]
    }
   ],
   "source": [
    "emergency1 = [3, 76, 24] # 3,1,2\n",
    "emergency2 = [1,2,3,4,5,6,7] #,7,6,5,4,3,2,1\n",
    "emergency3 = [30,10,23,6,100] #2,4,3,5,1\n",
    "\n",
    "def solution(emergency):\n",
    "    sorted_arr = sorted(emergency, reverse=True)\n",
    "    ranks = {}\n",
    "    rank = 1 \n",
    "    for value in sorted_arr: \n",
    "        if value not in ranks: \n",
    "            ranks[value] = rank \n",
    "            rank += 1 \n",
    "    return [ranks[x] for x in emergency]\n",
    "\n",
    "print(solution(emergency1))\n",
    "print(solution(emergency2))\n",
    "print(solution(emergency3))"
   ]
  },
  {
   "cell_type": "markdown",
   "metadata": {},
   "source": [
    "# 순서쌍의 개수\n",
    "\n",
    "순서쌍이란 두 개의 숫자를 순서를 정하여 짝지어 나타낸 쌍으로 (a, b)로 표기합니다. \n",
    "\n",
    "자연수 n이 매개변수로 주어질 때, 두 숫자의 곱이 n인 자연수 순서쌍의 개수를 return하도록 solution 함수를 완성해주세요."
   ]
  },
  {
   "cell_type": "code",
   "execution_count": 157,
   "metadata": {},
   "outputs": [
    {
     "name": "stdout",
     "output_type": "stream",
     "text": [
      "6\n",
      "9\n"
     ]
    }
   ],
   "source": [
    "n1 = 20 # 6\n",
    "# (1, 20), (2, 10), (4, 5), (5, 4), (10, 2), (20, 1)\n",
    "\n",
    "n2 = 100 # 9\n",
    "#(1, 100), (2, 50), (4, 25), (5, 20), (10, 10), (20, 5), (25, 4), (50, 2), (100, 1)\n",
    "\n",
    "def solution(n):\n",
    "    count = 0\n",
    "    for i in range(1,n+1):\n",
    "        if n % i == 0:\n",
    "            count += 1\n",
    "    return count\n",
    "\n",
    "print(solution(n1))\n",
    "print(solution(n2))"
   ]
  },
  {
   "cell_type": "markdown",
   "metadata": {},
   "source": [
    "# 개미 군단\n",
    "\n",
    "개미군단은 사냥감의 체력에 딱 맞는 병력을 데리고 나가려고 합니다.\n",
    "\n",
    "장군개미는 5의 공격력\n",
    "\n",
    "병정개미는 3의 공격력\n",
    "\n",
    "일개미는 1의 공격력\n",
    "\n",
    "사냥감의 체력 hp가 매개변수로 주어질 때, \n",
    "\n",
    "사냥감의 체력에 딱 맞게 최소한의 병력을 구성하려면 몇 마리의 개미가 필요한지를 return하도록 solution 함수를 완성해주세요."
   ]
  },
  {
   "cell_type": "code",
   "execution_count": 161,
   "metadata": {},
   "outputs": [
    {
     "name": "stdout",
     "output_type": "stream",
     "text": [
      "5\n",
      "6\n",
      "201\n"
     ]
    }
   ],
   "source": [
    "hp1 = 23 # 5\n",
    "hp2 = 24 # 6\n",
    "hp3 = 999 # 201\n",
    "\n",
    "def solution(hp):\n",
    "    G5 = hp//5\n",
    "    G3 = (hp%5) // 3\n",
    "    G1 = (hp%5) % 3\n",
    "    return G5+G3+G1\n",
    "\n",
    "print(solution(hp1))\n",
    "print(solution(hp2))\n",
    "print(solution(hp3))"
   ]
  },
  {
   "cell_type": "markdown",
   "metadata": {},
   "source": [
    "# 모스부호 (1)\n",
    "\n",
    "모스부호를 이용한 편지를 받았습니다. \n",
    "\n",
    "문자열 letter가 매개변수로 주어질 때, letter를 영어 소문자로 바꾼 문자열을 return 하도록 solution 함수를 완성해보세요."
   ]
  },
  {
   "cell_type": "code",
   "execution_count": 8,
   "metadata": {},
   "outputs": [
    {
     "name": "stdout",
     "output_type": "stream",
     "text": [
      "hello\n",
      "python\n"
     ]
    }
   ],
   "source": [
    "morse = {\n",
    "    '.-':'a',\n",
    "    '-...':'b',\n",
    "    '-.-.':'c',\n",
    "    '-..':'d',\n",
    "    '.':'e',\n",
    "    '..-.':'f',\n",
    "    '--.':'g',\n",
    "    '....':'h',\n",
    "    '..':'i',\n",
    "    '.---':'j',\n",
    "    '-.-':'k',\n",
    "    '.-..':'l',\n",
    "    '--':'m',\n",
    "    '-.':'n',\n",
    "    '---':'o',\n",
    "    '.--.':'p',\n",
    "    '--.-':'q',\n",
    "    '.-.':'r',\n",
    "    '...':'s',\n",
    "    '-':'t',\n",
    "    '..-':'u',\n",
    "    '...-':'v',\n",
    "    '.--':'w',\n",
    "    '-..-':'x',\n",
    "    '-.--':'y',\n",
    "    '--..':'z'\n",
    "    }\n",
    "\n",
    "letter1 = \".... . .-.. .-.. ---\" # hello\n",
    "letter2 = \".--. -.-- - .... --- -.\" # python\n",
    "\n",
    "def solution(letter):\n",
    "    result =''\n",
    "    l = letter.split(\" \")\n",
    "    for i in l:\n",
    "        result += morse[i]\n",
    "    return result\n",
    "\n",
    "print(solution(letter1))\n",
    "print(solution(letter2))"
   ]
  },
  {
   "cell_type": "markdown",
   "metadata": {},
   "source": [
    "# 가위 바위 보\n",
    "\n",
    "가위는 2 바위는 0 보는 5로 표현합니다. \n",
    "\n",
    "가위 바위 보를 내는 순서대로 나타낸 문자열 rsp가 매개변수로 주어질 때, \n",
    "\n",
    "rsp에 저장된 가위 바위 보를 모두 이기는 경우를 순서대로 나타낸 문자열을 return하도록 solution 함수를 완성해보세요."
   ]
  },
  {
   "cell_type": "code",
   "execution_count": 16,
   "metadata": {},
   "outputs": [
    {
     "name": "stdout",
     "output_type": "stream",
     "text": [
      "0\n",
      "052\n"
     ]
    }
   ],
   "source": [
    "# \"2\"는 가위이므로 바위를 나타내는 \"0\"을 return 합니다.\n",
    "# \"205\"는 순서대로 가위, 바위, 보이고 이를 모두 이기려면 바위, 보, 가위를 순서대로 내야하므로 “052”를 return합니다.\n",
    "rsp1 = '2' #0\n",
    "rsp2 = '205' #052 \n",
    "\n",
    "def solution(rsp):\n",
    "    result = ''\n",
    "    for i in rsp:\n",
    "        if i == '2':\n",
    "            result += '0'\n",
    "        elif i == '0' :\n",
    "            result += '5'\n",
    "        else :\n",
    "            result += '2'\n",
    "    return result\n",
    "\n",
    "print(solution(rsp1))\n",
    "print(solution(rsp2))\n",
    "\n",
    "\n",
    "# def solution(rsp):\n",
    "#     d = {'0':'5','2':'0','5':'2'}\n",
    "#     return ''.join(d[i] for i in rsp)"
   ]
  }
 ],
 "metadata": {
  "kernelspec": {
   "display_name": "Programers_conda",
   "language": "python",
   "name": "python3"
  },
  "language_info": {
   "codemirror_mode": {
    "name": "ipython",
    "version": 3
   },
   "file_extension": ".py",
   "mimetype": "text/x-python",
   "name": "python",
   "nbconvert_exporter": "python",
   "pygments_lexer": "ipython3",
   "version": "3.10.13"
  }
 },
 "nbformat": 4,
 "nbformat_minor": 2
}
