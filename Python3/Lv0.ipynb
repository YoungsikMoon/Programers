{
 "cells": [
  {
   "cell_type": "markdown",
   "metadata": {},
   "source": [
    "https://school.programmers.co.kr/learn/challenges?order=recent&levels=0&languages=python3&page=12\n",
    "\n",
    "Lv0 Python 최신순 맨 마지막 페이지부터 순서대로 풀이."
   ]
  },
  {
   "cell_type": "markdown",
   "metadata": {},
   "source": [
    "# 중복된 숫자 개수\n",
    "\n",
    "정수가 담긴 배열 array와 정수 n이 매개변수로 주어질 때, \n",
    "\n",
    "array에 n이 몇 개 있는 지를 return 하도록 solution 함수를 완성해보세요."
   ]
  },
  {
   "cell_type": "code",
   "execution_count": 26,
   "metadata": {},
   "outputs": [
    {
     "name": "stdout",
     "output_type": "stream",
     "text": [
      "2\n",
      "0\n"
     ]
    }
   ],
   "source": [
    "array1, n1 = [1, 1, 2, 3, 4, 5], 1 # 2\n",
    "array2, n2 = [0, 2, 3, 4], 1 # 0\n",
    "\n",
    "def solution(array, n):\n",
    "    return array.count(n)\n",
    "\n",
    "print(solution(array1, n1))\n",
    "print(solution(array2, n2))"
   ]
  },
  {
   "cell_type": "markdown",
   "metadata": {},
   "source": [
    "# 머쓱이 보다 키 큰 사람\n",
    "\n",
    "머쓱이는 학교에서 키 순으로 줄을 설 때 몇 번째로 서야 하는지 궁금해졌습니다. \n",
    "\n",
    "머쓱이네 반 친구들의 키가 담긴 정수 배열 array와 머쓱이의 키 height가 매개변수로 주어질 때, \n",
    "\n",
    "머쓱이보다 키 큰 사람 수를 return 하도록 solution 함수를 완성해보세요."
   ]
  },
  {
   "cell_type": "code",
   "execution_count": 29,
   "metadata": {},
   "outputs": [
    {
     "name": "stdout",
     "output_type": "stream",
     "text": [
      "3\n",
      "0\n"
     ]
    }
   ],
   "source": [
    "array1, h1 = [149, 180, 192, 170], 167 # 3\n",
    "array2, h2 = [180, 120, 140], 190 # 0\n",
    "\n",
    "def solution1(array, height):\n",
    "    return len([x for x in array if x > height])\n",
    "\n",
    "def solution2(array, height):\n",
    "    result = 0\n",
    "    for x in array:\n",
    "        if x > height:\n",
    "            result += 1     \n",
    "    return result\n",
    "\n",
    "print(solution1(array1, h1))\n",
    "print(solution2(array2, h2))"
   ]
  },
  {
   "cell_type": "markdown",
   "metadata": {},
   "source": [
    "# 두 수의 합\n",
    "\n",
    "정수 num1과 num2가 주어질 때, \n",
    "\n",
    "num1과 num2의 합을 return하도록 soltuion 함수를 완성해주세요."
   ]
  },
  {
   "cell_type": "code",
   "execution_count": 19,
   "metadata": {},
   "outputs": [
    {
     "name": "stdout",
     "output_type": "stream",
     "text": [
      "5\n",
      "102\n"
     ]
    }
   ],
   "source": [
    "n1, n2 = 2, 3 # 5\n",
    "n3, n4 = 100, 2 # 102\n",
    "\n",
    "def solution(num1, num2):\n",
    "    return num1+num2\n",
    "\n",
    "print(solution(n1,n2))\n",
    "print(solution(n3,n4))"
   ]
  },
  {
   "cell_type": "markdown",
   "metadata": {},
   "source": [
    "# 두 수의 차\n",
    "\n",
    "정수 num1과 num2가 주어질 때, \n",
    "\n",
    "num1에서 num2를 뺀 값을 return하도록 soltuion 함수를 완성해주세요."
   ]
  },
  {
   "cell_type": "code",
   "execution_count": 11,
   "metadata": {},
   "outputs": [
    {
     "name": "stdout",
     "output_type": "stream",
     "text": [
      "-1\n",
      "98\n"
     ]
    }
   ],
   "source": [
    "n1, n2 = 2, 3 # -1\n",
    "n3, n4 = 100, 2 # 98\n",
    "\n",
    "def solution(num1, num2):\n",
    "    return num1 - num2\n",
    "\n",
    "print(solution(n1,n2))\n",
    "print(solution(n3,n4))"
   ]
  },
  {
   "cell_type": "markdown",
   "metadata": {},
   "source": [
    "# 두 수의 곱\n",
    "\n",
    "정수 num1, num2가 매개변수 주어집니다. \n",
    "\n",
    "num1과 num2를 곱한 값을 return 하도록 solution 함수를 완성해주세요."
   ]
  },
  {
   "cell_type": "code",
   "execution_count": 21,
   "metadata": {},
   "outputs": [
    {
     "name": "stdout",
     "output_type": "stream",
     "text": [
      "12\n",
      "513\n"
     ]
    }
   ],
   "source": [
    "n1, n2 = 3, 4 # 12\n",
    "n3, n4 = 27, 19 # 513\n",
    "\n",
    "def solution(num1, num2):\n",
    "    return num1 * num2\n",
    "\n",
    "print(solution(n1,n2))\n",
    "print(solution(n3,n4))\n"
   ]
  },
  {
   "cell_type": "markdown",
   "metadata": {},
   "source": [
    "# 몫 구하기\n",
    "\n",
    "정수 num1, num2가 매개변수로 주어질 때, \n",
    "\n",
    "num1을 num2로 나눈 몫을 return 하도록 solution 함수를 완성해주세요."
   ]
  },
  {
   "cell_type": "code",
   "execution_count": 12,
   "metadata": {},
   "outputs": [
    {
     "name": "stdout",
     "output_type": "stream",
     "text": [
      "2\n",
      "3\n"
     ]
    }
   ],
   "source": [
    "n1, n2 = 10, 5 # 2\n",
    "n3, n4 = 7, 2 # 3\n",
    "\n",
    "def solution(num1, num2):\n",
    "    return num1 // num2\n",
    "\n",
    "print(solution(n1,n2))\n",
    "print(solution(n3,n4))"
   ]
  },
  {
   "cell_type": "markdown",
   "metadata": {},
   "source": [
    "# 두 수의 나눗셈\n",
    "\n",
    "정수 num1과 num2가 매개변수로 주어질 때, \n",
    "\n",
    "num1을 num2로 나눈 값에 1,000을 곱한 후 정수 부분을 return 하도록 soltuion 함수를 완성해주세요."
   ]
  },
  {
   "cell_type": "code",
   "execution_count": 33,
   "metadata": {},
   "outputs": [
    {
     "name": "stdout",
     "output_type": "stream",
     "text": [
      "1500\n",
      "2333\n",
      "62\n"
     ]
    }
   ],
   "source": [
    "n1, n2 = 3, 2 # 1500\n",
    "n3, n4 = 7, 3 # 2333\n",
    "n5, n6 = 1, 16 # 62\n",
    "\n",
    "def solution(num1, num2):\n",
    "    return int((num1/num2)*1000)\n",
    "\n",
    "print(solution(n1,n2))\n",
    "print(solution(n3,n4))\n",
    "print(solution(n5,n6))"
   ]
  },
  {
   "cell_type": "markdown",
   "metadata": {},
   "source": [
    "# 숫자 비교하기\n",
    "\n",
    "정수 num1과 num2가 매개변수로 주어집니다. \n",
    "\n",
    "두 수가 같으면 1 다르면 -1을 retrun하도록 solution 함수를 완성해주세요."
   ]
  },
  {
   "cell_type": "code",
   "execution_count": 13,
   "metadata": {},
   "outputs": [
    {
     "name": "stdout",
     "output_type": "stream",
     "text": [
      "-1\n",
      "1\n",
      "-1\n"
     ]
    }
   ],
   "source": [
    "n1, n2 = 2, 3 # -1\n",
    "n3, n4 = 11, 11 # 1\n",
    "n5, n6 = 7, 99 # -1\n",
    "\n",
    "def solution1(num1, num2):\n",
    "    if num1 == num2:\n",
    "        result = 1\n",
    "    else : \n",
    "        result = -1\n",
    "    return result\n",
    "\n",
    "def solution2(num1,num2):\n",
    "    return 1 if num1==num2 else -1\n",
    "\n",
    "print(solution1(n1,n2))\n",
    "print(solution2(n3,n4))\n",
    "print(solution2(n5,n6))\n"
   ]
  },
  {
   "cell_type": "markdown",
   "metadata": {},
   "source": [
    "# 분수의 덧셈  !!!!!!!!!!!!!!!!!!!!!!!!!!!!!!!!!!!!\n",
    "\n",
    "첫 번째 분수의 분자와 분모를 뜻하는 numer1, denom1, \n",
    "\n",
    "두 번째 분수의 분자와 분모를 뜻하는 numer2, denom2가 매개변수로 주어집니다. \n",
    "\n",
    "두 분수를 더한 값을 기약 분수로 나타냈을 때 분자와 분모를 순서대로 담은 배열을 return 하도록 solution 함수를 완성해보세요."
   ]
  },
  {
   "cell_type": "code",
   "execution_count": 37,
   "metadata": {},
   "outputs": [
    {
     "name": "stdout",
     "output_type": "stream",
     "text": [
      "2\n"
     ]
    }
   ],
   "source": [
    "# 두 분수의 곱에 대한 [분자, 분모] 값 출력하라는 문제.\n",
    "\n",
    "number1, denom1 = 1, 2 \n",
    "number2, denom2 = 3, 4 \n",
    "# [5, 4]\n",
    "\n",
    "number3, denom3 = 9, 2 \n",
    "number4, denom4 = 1, 3 \n",
    "# [29, 6]\n",
    "\n",
    "def solution(n1, d1, n2, d2):\n",
    "    return\n",
    "print(solution(number1, denom1, number2, denom2))"
   ]
  },
  {
   "cell_type": "markdown",
   "metadata": {},
   "source": [
    "# 배열 두배 만들기\n",
    "\n",
    "정수 배열 numbers가 매개변수로 주어집니다. \n",
    "\n",
    "numbers의 각 원소에 두배한 원소를 가진 배열을 return하도록 solution 함수를 완성해주세요."
   ]
  },
  {
   "cell_type": "code",
   "execution_count": 45,
   "metadata": {},
   "outputs": [
    {
     "data": {
      "text/plain": [
       "[-198, 2, 2, 4, 4, 6, 200]"
      ]
     },
     "execution_count": 45,
     "metadata": {},
     "output_type": "execute_result"
    }
   ],
   "source": [
    "numbers1 = [1, 2, 3, 4, 5] #[2, 4, 6, 8, 10]\n",
    "numbers2 = [1, 2, 100, -99, 1, 2, 3] #[2, 4, 200, -198, 2, 4, 6]\n",
    "\n",
    "def solution(numbers, x):\n",
    "    result = []\n",
    "    for i in numbers:\n",
    "        i = i*x\n",
    "        result.append(i)\n",
    "    return sorted(result)\n",
    "\n",
    "solution(numbers1, 2) \n",
    "solution(numbers2, 2) "
   ]
  },
  {
   "cell_type": "markdown",
   "metadata": {},
   "source": [
    "# 나머지 구하기\n",
    "\n",
    "정수 num1, num2가 매개변수로 주어질 때, \n",
    "\n",
    "num1를 num2로 나눈 나머지를 return 하도록 solution 함수를 완성해주세요."
   ]
  },
  {
   "cell_type": "code",
   "execution_count": 10,
   "metadata": {},
   "outputs": [
    {
     "name": "stdout",
     "output_type": "stream",
     "text": [
      "1\n",
      "0\n"
     ]
    }
   ],
   "source": [
    "n1, n2 = 3, 2 # 1\n",
    "n3, n4 = 10, 5 # 0\n",
    "\n",
    "def solution(num1, num2):\n",
    "    return num1%num2\n",
    "\n",
    "print(solution(n1,n2))\n",
    "print(solution(n3,n4))"
   ]
  },
  {
   "cell_type": "markdown",
   "metadata": {},
   "source": [
    "# 중앙값 구하기\n",
    "\n",
    "중앙값은 어떤 주어진 값들을 크기의 순서대로 정렬했을 때 가장 중앙에 위치하는 값을 의미합니다.\n",
    "\n",
    "예를 들어 1, 2, 3, 7 ,10 ,11의 중앙값은 7 입니다.\n",
    "\n",
    "정수 배열 array가 매개변수로 주어질 때, 중앙값을 return하세요."
   ]
  },
  {
   "cell_type": "code",
   "execution_count": 38,
   "metadata": {},
   "outputs": [
    {
     "data": {
      "text/plain": [
       "0"
      ]
     },
     "execution_count": 38,
     "metadata": {},
     "output_type": "execute_result"
    }
   ],
   "source": [
    "array1 = [1, 2, 7, 10, 11] # 7\n",
    "array2 = [9, -1, 0]\n",
    "\n",
    "def solution(array):\n",
    "    if len(array)%2 != 0:    \n",
    "        return sorted(array)[len(array)//2]\n",
    "    else : return \"array 길이가 짝수 입니다\", len(array)\n",
    "    \n",
    "solution(array1)\n",
    "solution(array2)"
   ]
  },
  {
   "cell_type": "markdown",
   "metadata": {},
   "source": [
    "# 최빈값 구하기\n",
    "\n",
    "최빈값은 주어진 값 중에서 가장 자주 나오는 값을 의미합니다. \n",
    "\n",
    "정수 배열 array가 매개변수로 주어질 때, \n",
    "\n",
    "최빈값을 return 하도록 solution 함수를 완성해보세요. \n",
    "\n",
    "최빈값이 여러 개면 -1을 return 합니다."
   ]
  },
  {
   "cell_type": "code",
   "execution_count": 19,
   "metadata": {},
   "outputs": [
    {
     "name": "stdout",
     "output_type": "stream",
     "text": [
      "3\n",
      "1\n",
      "1\n"
     ]
    }
   ],
   "source": [
    "array1 = [1,2,3,3,3,4] # 3\n",
    "array2 = [1,1,2,2] # 3\n",
    "array3 = [1] # 1\n",
    "\n",
    "def solution(array):\n",
    "    # 각 요소의 빈도수를 저장하는 딕셔너리 생성\n",
    "    array_map = {}\n",
    "\n",
    "    # 각 요소의 빈도수 계산\n",
    "    for element in array:\n",
    "        if element in array_map:\n",
    "            array_map[element] += 1\n",
    "        else:\n",
    "            array_map[element] = 1\n",
    "\n",
    "    # 가장 높은 빈도수를 가진 요소 찾기\n",
    "    result = None\n",
    "    max = 0\n",
    "    for element, count in array_map.items():\n",
    "        if count > max:\n",
    "            result = element\n",
    "            max = count\n",
    "\n",
    "    return result\n",
    "\n",
    "print(solution(array1))\n",
    "print(solution(array2))\n",
    "print(solution(array3))"
   ]
  },
  {
   "cell_type": "markdown",
   "metadata": {},
   "source": [
    "# 짝수가 싫어요\n",
    "\n",
    "정수 n이 매개변수로 주어질 때, \n",
    "\n",
    "n 이하의 홀수가 오름차순으로 담긴 배열을 return하도록 solution 함수를 완성해주세요."
   ]
  },
  {
   "cell_type": "code",
   "execution_count": 25,
   "metadata": {},
   "outputs": [
    {
     "data": {
      "text/plain": [
       "([1, 3, 5, 7, 9], [1, 3, 5, 7, 9, 11, 13, 15])"
      ]
     },
     "execution_count": 25,
     "metadata": {},
     "output_type": "execute_result"
    }
   ],
   "source": [
    "n1 = 10 # [1, 3, ,5, 7, 9]\n",
    "n2 = 15 # [1, 3, 5, 7, 9, 11, 13, 15]\n",
    "\n",
    "def solution(n):\n",
    "    result = []\n",
    "    for i in range(1, n+1, 2):\n",
    "        result.append(i)\n",
    "    return result\n",
    "\n",
    "solution(n1), solution(n2)"
   ]
  },
  {
   "cell_type": "markdown",
   "metadata": {},
   "source": [
    "# 피자 나눠 먹기 (1)\n",
    "\n",
    "머쓱이네 피자가게는 피자를 일곱 조각으로 잘라 줍니다. \n",
    "\n",
    "피자를 나눠먹을 사람의 수 n이 주어질 때, \n",
    "\n",
    "모든 사람이 피자를 한 조각 이상 먹기 위해 필요한 피자의 수를 return 하는 solution 함수를 완성해보세요."
   ]
  },
  {
   "cell_type": "code",
   "execution_count": 27,
   "metadata": {},
   "outputs": [
    {
     "name": "stdout",
     "output_type": "stream",
     "text": [
      "1\n",
      "1\n",
      "3\n"
     ]
    }
   ],
   "source": [
    "n1 = 7 # 1\n",
    "n2 = 1 # 1\n",
    "n3 = 15 # 3\n",
    "\n",
    "def solution(n):\n",
    "    pizza = 0\n",
    "    pizza_slice = 7\n",
    "    if 0 < n <= pizza_slice : # 피자조각보다 사람이 적은 경우\n",
    "        pizza = 1 \n",
    "    elif n % pizza_slice == 0 : # 피자 조각을 모든 인원에게 한개씩 주고 남은게 0조각이면\n",
    "        pizza = n//pizza_slice\n",
    "    else :\n",
    "        pizza = (n//pizza_slice) + 1\n",
    "    return pizza\n",
    "\n",
    "print(solution(n1))\n",
    "print(solution(n2))\n",
    "print(solution(n3))"
   ]
  },
  {
   "cell_type": "markdown",
   "metadata": {},
   "source": [
    "# 피자 나눠 먹기 (2)\n",
    "\n",
    "머쓱이네 피자가게는 피자를 여섯 조각으로 잘라 줍니다. \n",
    "\n",
    "피자를 나눠먹을 사람의 수 n이 매개변수로 주어질 때, \n",
    "\n",
    "n명이 주문한 피자를 남기지 않고 모두 같은 수의 피자 조각을 먹어야 한다면 최소 몇 판을 시켜야 하는지를 return 하도록 solution 함수를 완성해보세요."
   ]
  },
  {
   "cell_type": "code",
   "execution_count": 36,
   "metadata": {},
   "outputs": [
    {
     "name": "stdout",
     "output_type": "stream",
     "text": [
      "1\n",
      "5\n",
      "2\n"
     ]
    }
   ],
   "source": [
    "n1 = 6 # 1\n",
    "n2 = 10 # 5\n",
    "n3 = 4 # 2\n",
    "\n",
    "pizza_slice = 6\n",
    "\n",
    "def gcd(a, b):\n",
    "    while b != 0:\n",
    "        a, b = b, a % b\n",
    "    return a\n",
    "\n",
    "def solution(n):\n",
    "    pizza = (n * pizza_slice) // gcd(n, pizza_slice) // pizza_slice\n",
    "    return pizza\n",
    "\n",
    "print(solution(n1))\n",
    "print(solution(n2))\n",
    "print(solution(n3))"
   ]
  },
  {
   "cell_type": "markdown",
   "metadata": {},
   "source": [
    "# 피자 나눠먹기 (3)\n",
    "\n",
    "머쓱이네 피자가게는 피자를 두 조각에서 열 조각까지 원하는 조각 수로 잘라줍니다. \n",
    "\n",
    "피자 조각 수 slice와 피자를 먹는 사람의 수 n이 매개변수로 주어질 때, \n",
    "\n",
    "n명의 사람이 최소 한 조각 이상 피자를 먹으려면 최소 몇 판의 피자를 시켜야 하는지를 return 하도록 solution 함수를 완성해보세요."
   ]
  },
  {
   "cell_type": "code",
   "execution_count": 37,
   "metadata": {},
   "outputs": [
    {
     "name": "stdout",
     "output_type": "stream",
     "text": [
      "2\n",
      "3\n"
     ]
    }
   ],
   "source": [
    "pizza_slice1, n1 = 7, 10 # 2\n",
    "pizza_slice2, n2 = 4, 12 # 3\n",
    "\n",
    "\n",
    "\n",
    "def solution(slice, n):\n",
    "    if n % slice == 0:\n",
    "        return n // slice\n",
    "    else:\n",
    "        return n // slice + 1\n",
    "\n",
    "print(solution(pizza_slice1, n1))\n",
    "print(solution(pizza_slice2, n2))"
   ]
  },
  {
   "cell_type": "markdown",
   "metadata": {},
   "source": [
    "# 배열(리스트)의 평균값\n",
    "\n",
    "정수 배열 numbers가 매개변수로 주어집니다. \n",
    "\n",
    "numbers의 원소의 평균값을 return하도록 solution 함수를 완성해주세요."
   ]
  },
  {
   "cell_type": "code",
   "execution_count": 22,
   "metadata": {},
   "outputs": [
    {
     "name": "stdout",
     "output_type": "stream",
     "text": [
      "5.5\n",
      "94.0\n"
     ]
    }
   ],
   "source": [
    "n1 = [1, 2, 3, 4, 5, 6, 7, 8, 9, 10] # 5.5\n",
    "n2 = [89, 90, 91, 92, 93, 94, 95, 96, 97, 98, 99] # 94.0\n",
    "\n",
    "def solution(numbers):\n",
    "    return sum(numbers)/len(numbers)\n",
    "\n",
    "print(solution(n1))\n",
    "print(solution(n2))\n"
   ]
  },
  {
   "cell_type": "markdown",
   "metadata": {},
   "source": [
    "# 옷가게 할인 받기\n",
    "\n",
    "머쓱이네 옷가게는 10만 원 이상 사면 5%, 30만 원 이상 사면 10%, 50만 원 이상 사면 20%를 할인해줍니다.\n",
    "\n",
    "구매한 옷의 가격 price가 주어질 때, 지불해야 할 금액을 return 하도록 solution 함수를 완성해보세요."
   ]
  },
  {
   "cell_type": "code",
   "execution_count": 39,
   "metadata": {},
   "outputs": [
    {
     "data": {
      "text/plain": [
       "464000"
      ]
     },
     "execution_count": 39,
     "metadata": {},
     "output_type": "execute_result"
    }
   ],
   "source": [
    "price1 = 150000 # 142500\n",
    "price2 = 580000 # 464000\n",
    "\n",
    "def solution(price):\n",
    "    if 100000 <= price < 300000:\n",
    "        pay_price = price * 0.95\n",
    "    elif 300000 <= price < 500000:\n",
    "        pay_price = price * 0.90\n",
    "    elif price >= 500000:\n",
    "        pay_price = price * 0.80\n",
    "    else:\n",
    "        pay_price = price\n",
    "    return int(pay_price)\n",
    "\n",
    "solution(price1)\n",
    "solution(price2)"
   ]
  },
  {
   "cell_type": "markdown",
   "metadata": {},
   "source": [
    "# 아이스 아메리카노\n",
    "\n",
    "머쓱이는 추운 날에도 아이스 아메리카노만 마십니다. \n",
    "\n",
    "아이스 아메리카노는 한잔에 5,500원입니다. \n",
    "\n",
    "머쓱이가 가지고 있는 돈 money가 매개변수로 주어질 때, \n",
    "\n",
    "머쓱이가 최대로 마실 수 있는 아메리카노의 잔 수와 남는 돈을 순서대로 담은 배열을 return 하도록 solution 함수를 완성해보세요."
   ]
  },
  {
   "cell_type": "code",
   "execution_count": 41,
   "metadata": {},
   "outputs": [
    {
     "name": "stdout",
     "output_type": "stream",
     "text": [
      "[1, 0]\n",
      "[2, 4000]\n"
     ]
    }
   ],
   "source": [
    "money1 = 5500 # [1, 0]\n",
    "money2 = 15000 # [1, 0]\n",
    "\n",
    "def solution(money):\n",
    "    a = int(money/5500)\n",
    "    b = money%5500\n",
    "    answer = [a, b]\n",
    "    return answer\n",
    "\n",
    "print(solution(money1))\n",
    "print(solution(money2))"
   ]
  },
  {
   "cell_type": "markdown",
   "metadata": {},
   "source": [
    "# 나이 출력\n",
    "\n",
    "머쓱이는 선생님이 몇 년도에 태어났는지 궁금해졌습니다. \n",
    "\n",
    "2022년 기준 선생님의 나이 age가 주어질 때, 선생님의 출생 연도를 return 하는 solution 함수를 완성해주세요.\n",
    "n1 = 40 # 1983\n",
    "n2 = 23 # 2000\n",
    "\n",
    "def solution(age):\n",
    "    return 2022-age+1\n",
    "\n",
    "print(solution(n1))\n",
    "print(solution(n2))"
   ]
  },
  {
   "cell_type": "code",
   "execution_count": null,
   "metadata": {},
   "outputs": [],
   "source": [
    "n1 = 40 # 1983\n",
    "n2 = 23 # 2000\n",
    "\n",
    "def solution(age):\n",
    "    return 2022-age+1\n",
    "\n",
    "print(solution(n1))\n",
    "print(solution(n2))"
   ]
  },
  {
   "cell_type": "markdown",
   "metadata": {},
   "source": [
    "# 배열 뒤집기"
   ]
  },
  {
   "cell_type": "markdown",
   "metadata": {},
   "source": [
    "# 문자열 뒤집기"
   ]
  },
  {
   "cell_type": "markdown",
   "metadata": {},
   "source": [
    "# 직각삼각형 출력하기"
   ]
  },
  {
   "cell_type": "markdown",
   "metadata": {},
   "source": [
    "# 짝수 홀수 개수\n"
   ]
  },
  {
   "cell_type": "markdown",
   "metadata": {},
   "source": [
    "# 문자 반복 출력하기"
   ]
  },
  {
   "cell_type": "markdown",
   "metadata": {},
   "source": [
    "# 특정 문자 제거하기"
   ]
  },
  {
   "cell_type": "markdown",
   "metadata": {},
   "source": [
    "# 각도기\n",
    "\n",
    "각에서 0도 초과 90도 미만은 예각, \n",
    "\n",
    "90도는 직각, \n",
    "\n",
    "90도 초과 180도 미만은 둔각 180도는 평각으로 분류합니다. \n",
    "\n",
    "각 angle이 매개변수로 주어질 때 \n",
    "\n",
    "예각일 때 1, \n",
    "\n",
    "직각일 때 2, \n",
    "\n",
    "둔각일 때 3, \n",
    "\n",
    "평각일 때 4를 return하도록 solution 함수를 완성해주세요.\n"
   ]
  },
  {
   "cell_type": "code",
   "execution_count": null,
   "metadata": {},
   "outputs": [],
   "source": [
    "n1 = 70 # 1\n",
    "n2 = 91 # 3\n",
    "n3 = 180 # 4\n",
    "\n",
    "def solution(angle):\n",
    "    if 0 < angle < 90:\n",
    "        result = 1\n",
    "    elif 90 == angle :\n",
    "        result = 2\n",
    "    elif 90 < angle <180:\n",
    "        result = 3 \n",
    "    else :\n",
    "        result = 4\n",
    "    return result\n",
    "\n",
    "print(solution(n1))\n",
    "print(solution(n2))\n",
    "print(solution(n3))"
   ]
  }
 ],
 "metadata": {
  "kernelspec": {
   "display_name": "Programers_conda",
   "language": "python",
   "name": "python3"
  },
  "language_info": {
   "codemirror_mode": {
    "name": "ipython",
    "version": 3
   },
   "file_extension": ".py",
   "mimetype": "text/x-python",
   "name": "python",
   "nbconvert_exporter": "python",
   "pygments_lexer": "ipython3",
   "version": "3.10.13"
  }
 },
 "nbformat": 4,
 "nbformat_minor": 2
}
